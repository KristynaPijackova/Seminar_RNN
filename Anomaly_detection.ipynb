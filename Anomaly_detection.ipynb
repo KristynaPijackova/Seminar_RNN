{
  "nbformat": 4,
  "nbformat_minor": 0,
  "metadata": {
    "colab": {
      "name": "Anomaly_detection.ipynb",
      "provenance": [],
      "collapsed_sections": [],
      "toc_visible": true,
      "include_colab_link": true
    },
    "kernelspec": {
      "name": "python3",
      "display_name": "Python 3"
    },
    "language_info": {
      "name": "python"
    }
  },
  "cells": [
    {
      "cell_type": "markdown",
      "metadata": {
        "id": "view-in-github",
        "colab_type": "text"
      },
      "source": [
        "<a href=\"https://colab.research.google.com/github/KristynaPijackova/Tutorials_NNs_and_signals/blob/main/Anomaly_detection.ipynb\" target=\"_parent\"><img src=\"https://colab.research.google.com/assets/colab-badge.svg\" alt=\"Open In Colab\"/></a>"
      ]
    },
    {
      "cell_type": "markdown",
      "source": [
        "# Anomaly detection with ECG dataset"
      ],
      "metadata": {
        "id": "lrp9P-gZWijt"
      }
    },
    {
      "cell_type": "markdown",
      "source": [
        "So in our previous task we used the ECG5000 dataset for a classification task. \n",
        "\n",
        "However, as we noticed when analyzing the dataset, the classes are really imbalanced and thus not suitable for classification task. We tried to improve this by creating a synthetic data with SMOTE method (Synthetic Minority Oversampling TEchnique). While this helped us a little bit and we could still see that the underrepresented classes get mixed up with each other. \n",
        "\n",
        "Due to the great imbalance of the dataset, it is much better to re-consider our problem and instead of classifying signals which are hugely under-represented, we could try learning features from the strongly represented class and do an anomaly detection instead.\n",
        "\n",
        "\n",
        "\n",
        "---\n",
        "\n",
        "Interactive of our example: https://anomagram.fastforwardlabs.com/#/\n"
      ],
      "metadata": {
        "id": "gYJQ7eGcW6nS"
      }
    },
    {
      "cell_type": "markdown",
      "source": [
        "**Few jupyter notebook shortcuts you can use to make your life easier**\n",
        "\n",
        "Run cell: `shift + enter`\n",
        "\n",
        "Undo last action (inside a cell): `ctrl + m + z`\n",
        "\n",
        "Find and replace: `ctrl + h`\n",
        "\n",
        "Insert code cell above: `ctrl + a`\n",
        "\n",
        "Insert code cell below: `ctrl + b`\n",
        "\n",
        "Delete cell: `ctrl + m + d`"
      ],
      "metadata": {
        "id": "nNMzXAoP2irN"
      }
    },
    {
      "cell_type": "markdown",
      "source": [
        "Let's download the data"
      ],
      "metadata": {
        "id": "H5T2AO5cW6yP"
      }
    },
    {
      "cell_type": "code",
      "execution_count": null,
      "metadata": {
        "colab": {
          "base_uri": "https://localhost:8080/"
        },
        "id": "amFW0AIpQpcs",
        "outputId": "0831a81a-10d1-4f43-ef14-e1d73c14cc5f"
      },
      "outputs": [
        {
          "output_type": "stream",
          "name": "stdout",
          "text": [
            "--2021-12-18 14:03:39--  http://www.timeseriesclassification.com/Downloads/ECG5000.zip\n",
            "Resolving www.timeseriesclassification.com (www.timeseriesclassification.com)... 109.123.71.232\n",
            "Connecting to www.timeseriesclassification.com (www.timeseriesclassification.com)|109.123.71.232|:80... connected.\n",
            "HTTP request sent, awaiting response... 200 OK\n",
            "Length: 10614407 (10M) [application/zip]\n",
            "Saving to: ‘ECG5000.zip.1’\n",
            "\n",
            "ECG5000.zip.1       100%[===================>]  10.12M  4.11MB/s    in 2.5s    \n",
            "\n",
            "2021-12-18 14:03:42 (4.11 MB/s) - ‘ECG5000.zip.1’ saved [10614407/10614407]\n",
            "\n",
            "Archive:  ECG5000.zip\n",
            "replace ECG5000.txt? [y]es, [n]o, [A]ll, [N]one, [r]ename: N\n"
          ]
        }
      ],
      "source": [
        "! wget http://www.timeseriesclassification.com/Downloads/ECG5000.zip\n",
        "! unzip ECG5000.zip"
      ]
    },
    {
      "cell_type": "markdown",
      "source": [
        "And now since we don't need train and test files, we can concatenate the two files together and create one file containing all the data instead.\n",
        "\n",
        "Here we can simply do this by the the unix command `cat`"
      ],
      "metadata": {
        "id": "2-Nk8Re8W2DU"
      }
    },
    {
      "cell_type": "code",
      "source": [
        "!cat ECG5000_TRAIN.txt ECG5000_TEST.txt > ecg_concat.txt"
      ],
      "metadata": {
        "id": "y8yU2IiTZNI1"
      },
      "execution_count": null,
      "outputs": []
    },
    {
      "cell_type": "markdown",
      "source": [
        "And we can check if the file-structure still looks the same "
      ],
      "metadata": {
        "id": "3u4HCndxY9wv"
      }
    },
    {
      "cell_type": "code",
      "source": [
        "!head ecg_concat.txt"
      ],
      "metadata": {
        "id": "jZBEOotmZYiD"
      },
      "execution_count": null,
      "outputs": []
    },
    {
      "cell_type": "markdown",
      "source": [
        "Let's import libraries we are about to use"
      ],
      "metadata": {
        "id": "mL5ge9IJZFdi"
      }
    },
    {
      "cell_type": "code",
      "source": [
        "import pandas as pd\n",
        "import numpy as np\n",
        "import matplotlib.pyplot as plt\n",
        "import seaborn as sns\n",
        "\n",
        "import tensorflow as tf\n",
        "from tensorflow import keras\n",
        "from tensorflow.keras.models import Model\n",
        "\n",
        "from sklearn.model_selection import train_test_split\n",
        "from sklearn import preprocessing"
      ],
      "metadata": {
        "id": "wbWNtDuFYySV"
      },
      "execution_count": null,
      "outputs": []
    },
    {
      "cell_type": "markdown",
      "source": [
        "## Let's prepare our data"
      ],
      "metadata": {
        "id": "QcuQvU6fZN9e"
      }
    },
    {
      "cell_type": "markdown",
      "source": [
        "Once again, we create a dataframe with pandas..."
      ],
      "metadata": {
        "id": "IdRq3rb4ZU_V"
      }
    },
    {
      "cell_type": "code",
      "source": [
        "df = pd.read_csv('/content/ecg_concat.txt', sep='  ', header=None)"
      ],
      "metadata": {
        "colab": {
          "base_uri": "https://localhost:8080/"
        },
        "id": "DtqkASDDZBDB",
        "outputId": "948e6715-a555-4f9e-c0f2-453fa981bd6c"
      },
      "execution_count": null,
      "outputs": [
        {
          "output_type": "stream",
          "name": "stderr",
          "text": [
            "/usr/local/lib/python3.7/dist-packages/ipykernel_launcher.py:1: ParserWarning: Falling back to the 'python' engine because the 'c' engine does not support regex separators (separators > 1 char and different from '\\s+' are interpreted as regex); you can avoid this warning by specifying engine='python'.\n",
            "  \"\"\"Entry point for launching an IPython kernel.\n"
          ]
        }
      ]
    },
    {
      "cell_type": "code",
      "source": [
        "df"
      ],
      "metadata": {
        "colab": {
          "base_uri": "https://localhost:8080/",
          "height": 488
        },
        "id": "szXAJk6AZicY",
        "outputId": "5ee0f363-f8d4-4233-da54-352fd12ff1b9"
      },
      "execution_count": null,
      "outputs": [
        {
          "output_type": "execute_result",
          "data": {
            "text/html": [
              "\n",
              "  <div id=\"df-b4a6ff79-7ca6-4867-bff3-6724d789a2d7\">\n",
              "    <div class=\"colab-df-container\">\n",
              "      <div>\n",
              "<style scoped>\n",
              "    .dataframe tbody tr th:only-of-type {\n",
              "        vertical-align: middle;\n",
              "    }\n",
              "\n",
              "    .dataframe tbody tr th {\n",
              "        vertical-align: top;\n",
              "    }\n",
              "\n",
              "    .dataframe thead th {\n",
              "        text-align: right;\n",
              "    }\n",
              "</style>\n",
              "<table border=\"1\" class=\"dataframe\">\n",
              "  <thead>\n",
              "    <tr style=\"text-align: right;\">\n",
              "      <th></th>\n",
              "      <th>0</th>\n",
              "      <th>1</th>\n",
              "      <th>2</th>\n",
              "      <th>3</th>\n",
              "      <th>4</th>\n",
              "      <th>5</th>\n",
              "      <th>6</th>\n",
              "      <th>7</th>\n",
              "      <th>8</th>\n",
              "      <th>9</th>\n",
              "      <th>10</th>\n",
              "      <th>11</th>\n",
              "      <th>12</th>\n",
              "      <th>13</th>\n",
              "      <th>14</th>\n",
              "      <th>15</th>\n",
              "      <th>16</th>\n",
              "      <th>17</th>\n",
              "      <th>18</th>\n",
              "      <th>19</th>\n",
              "      <th>20</th>\n",
              "      <th>21</th>\n",
              "      <th>22</th>\n",
              "      <th>23</th>\n",
              "      <th>24</th>\n",
              "      <th>25</th>\n",
              "      <th>26</th>\n",
              "      <th>27</th>\n",
              "      <th>28</th>\n",
              "      <th>29</th>\n",
              "      <th>30</th>\n",
              "      <th>31</th>\n",
              "      <th>32</th>\n",
              "      <th>33</th>\n",
              "      <th>34</th>\n",
              "      <th>35</th>\n",
              "      <th>36</th>\n",
              "      <th>37</th>\n",
              "      <th>38</th>\n",
              "      <th>39</th>\n",
              "      <th>...</th>\n",
              "      <th>101</th>\n",
              "      <th>102</th>\n",
              "      <th>103</th>\n",
              "      <th>104</th>\n",
              "      <th>105</th>\n",
              "      <th>106</th>\n",
              "      <th>107</th>\n",
              "      <th>108</th>\n",
              "      <th>109</th>\n",
              "      <th>110</th>\n",
              "      <th>111</th>\n",
              "      <th>112</th>\n",
              "      <th>113</th>\n",
              "      <th>114</th>\n",
              "      <th>115</th>\n",
              "      <th>116</th>\n",
              "      <th>117</th>\n",
              "      <th>118</th>\n",
              "      <th>119</th>\n",
              "      <th>120</th>\n",
              "      <th>121</th>\n",
              "      <th>122</th>\n",
              "      <th>123</th>\n",
              "      <th>124</th>\n",
              "      <th>125</th>\n",
              "      <th>126</th>\n",
              "      <th>127</th>\n",
              "      <th>128</th>\n",
              "      <th>129</th>\n",
              "      <th>130</th>\n",
              "      <th>131</th>\n",
              "      <th>132</th>\n",
              "      <th>133</th>\n",
              "      <th>134</th>\n",
              "      <th>135</th>\n",
              "      <th>136</th>\n",
              "      <th>137</th>\n",
              "      <th>138</th>\n",
              "      <th>139</th>\n",
              "      <th>140</th>\n",
              "    </tr>\n",
              "  </thead>\n",
              "  <tbody>\n",
              "    <tr>\n",
              "      <th>0</th>\n",
              "      <td>1.0</td>\n",
              "      <td>-0.112522</td>\n",
              "      <td>-2.827204</td>\n",
              "      <td>-3.773897</td>\n",
              "      <td>-4.349751</td>\n",
              "      <td>-4.376041</td>\n",
              "      <td>-3.474986</td>\n",
              "      <td>-2.181408</td>\n",
              "      <td>-1.818287</td>\n",
              "      <td>-1.250522</td>\n",
              "      <td>-0.477492</td>\n",
              "      <td>-0.363808</td>\n",
              "      <td>-0.491957</td>\n",
              "      <td>-0.421855</td>\n",
              "      <td>-0.309201</td>\n",
              "      <td>-0.495939</td>\n",
              "      <td>-0.342119</td>\n",
              "      <td>-0.355336</td>\n",
              "      <td>-0.367913</td>\n",
              "      <td>-0.316503</td>\n",
              "      <td>-0.412374</td>\n",
              "      <td>-0.471672</td>\n",
              "      <td>-0.413458</td>\n",
              "      <td>-0.364617</td>\n",
              "      <td>-0.449298</td>\n",
              "      <td>-0.471419</td>\n",
              "      <td>-0.424777</td>\n",
              "      <td>-0.462517</td>\n",
              "      <td>-0.552472</td>\n",
              "      <td>-0.475375</td>\n",
              "      <td>-0.694200</td>\n",
              "      <td>-0.701868</td>\n",
              "      <td>-0.593812</td>\n",
              "      <td>-0.660684</td>\n",
              "      <td>-0.713831</td>\n",
              "      <td>-0.769807</td>\n",
              "      <td>-0.672282</td>\n",
              "      <td>-0.653676</td>\n",
              "      <td>-0.639406</td>\n",
              "      <td>-0.559302</td>\n",
              "      <td>...</td>\n",
              "      <td>1.173345</td>\n",
              "      <td>1.258179</td>\n",
              "      <td>1.433789</td>\n",
              "      <td>1.700533</td>\n",
              "      <td>1.999043</td>\n",
              "      <td>2.125341</td>\n",
              "      <td>1.993291</td>\n",
              "      <td>1.932246</td>\n",
              "      <td>1.797437</td>\n",
              "      <td>1.522284</td>\n",
              "      <td>1.251168</td>\n",
              "      <td>0.998730</td>\n",
              "      <td>0.483722</td>\n",
              "      <td>0.023132</td>\n",
              "      <td>-0.194914</td>\n",
              "      <td>-0.220917</td>\n",
              "      <td>-0.243737</td>\n",
              "      <td>-0.254695</td>\n",
              "      <td>-0.291136</td>\n",
              "      <td>-0.256490</td>\n",
              "      <td>-0.227874</td>\n",
              "      <td>-0.322423</td>\n",
              "      <td>-0.289286</td>\n",
              "      <td>-0.318170</td>\n",
              "      <td>-0.363654</td>\n",
              "      <td>-0.393456</td>\n",
              "      <td>-0.266419</td>\n",
              "      <td>-0.256823</td>\n",
              "      <td>-0.288694</td>\n",
              "      <td>-0.162338</td>\n",
              "      <td>0.160348</td>\n",
              "      <td>0.792168</td>\n",
              "      <td>0.933541</td>\n",
              "      <td>0.796958</td>\n",
              "      <td>0.578621</td>\n",
              "      <td>0.257740</td>\n",
              "      <td>0.228077</td>\n",
              "      <td>0.123431</td>\n",
              "      <td>0.925286</td>\n",
              "      <td>0.193137</td>\n",
              "    </tr>\n",
              "    <tr>\n",
              "      <th>1</th>\n",
              "      <td>1.0</td>\n",
              "      <td>-1.100878</td>\n",
              "      <td>-3.996840</td>\n",
              "      <td>-4.285843</td>\n",
              "      <td>-4.506579</td>\n",
              "      <td>-4.022377</td>\n",
              "      <td>-3.234368</td>\n",
              "      <td>-1.566126</td>\n",
              "      <td>-0.992258</td>\n",
              "      <td>-0.754680</td>\n",
              "      <td>0.042321</td>\n",
              "      <td>0.148951</td>\n",
              "      <td>0.183527</td>\n",
              "      <td>0.294876</td>\n",
              "      <td>0.190233</td>\n",
              "      <td>0.235575</td>\n",
              "      <td>0.253487</td>\n",
              "      <td>0.221742</td>\n",
              "      <td>0.050233</td>\n",
              "      <td>0.178042</td>\n",
              "      <td>0.139563</td>\n",
              "      <td>0.046794</td>\n",
              "      <td>0.043007</td>\n",
              "      <td>0.106544</td>\n",
              "      <td>0.012654</td>\n",
              "      <td>0.003995</td>\n",
              "      <td>0.045724</td>\n",
              "      <td>-0.045999</td>\n",
              "      <td>-0.072667</td>\n",
              "      <td>-0.071078</td>\n",
              "      <td>-0.153866</td>\n",
              "      <td>-0.227254</td>\n",
              "      <td>-0.249270</td>\n",
              "      <td>-0.253489</td>\n",
              "      <td>-0.332835</td>\n",
              "      <td>-0.264330</td>\n",
              "      <td>-0.345825</td>\n",
              "      <td>-0.310781</td>\n",
              "      <td>-0.334160</td>\n",
              "      <td>-0.306178</td>\n",
              "      <td>...</td>\n",
              "      <td>1.557410</td>\n",
              "      <td>1.808428</td>\n",
              "      <td>2.164346</td>\n",
              "      <td>2.070747</td>\n",
              "      <td>1.903614</td>\n",
              "      <td>1.764455</td>\n",
              "      <td>1.507769</td>\n",
              "      <td>1.293428</td>\n",
              "      <td>0.894562</td>\n",
              "      <td>0.578016</td>\n",
              "      <td>0.244343</td>\n",
              "      <td>-0.286443</td>\n",
              "      <td>-0.515881</td>\n",
              "      <td>-0.732707</td>\n",
              "      <td>-0.832465</td>\n",
              "      <td>-0.803318</td>\n",
              "      <td>-0.836252</td>\n",
              "      <td>-0.777865</td>\n",
              "      <td>-0.774753</td>\n",
              "      <td>-0.733404</td>\n",
              "      <td>-0.721386</td>\n",
              "      <td>-0.832095</td>\n",
              "      <td>-0.711982</td>\n",
              "      <td>-0.751867</td>\n",
              "      <td>-0.757720</td>\n",
              "      <td>-0.853120</td>\n",
              "      <td>-0.766988</td>\n",
              "      <td>-0.688161</td>\n",
              "      <td>-0.519923</td>\n",
              "      <td>0.039406</td>\n",
              "      <td>0.560327</td>\n",
              "      <td>0.538356</td>\n",
              "      <td>0.656881</td>\n",
              "      <td>0.787490</td>\n",
              "      <td>0.724046</td>\n",
              "      <td>0.555784</td>\n",
              "      <td>0.476333</td>\n",
              "      <td>0.773820</td>\n",
              "      <td>1.119621</td>\n",
              "      <td>-1.436250</td>\n",
              "    </tr>\n",
              "    <tr>\n",
              "      <th>2</th>\n",
              "      <td>1.0</td>\n",
              "      <td>-0.567088</td>\n",
              "      <td>-2.593450</td>\n",
              "      <td>-3.874230</td>\n",
              "      <td>-4.584095</td>\n",
              "      <td>-4.187449</td>\n",
              "      <td>-3.151462</td>\n",
              "      <td>-1.742940</td>\n",
              "      <td>-1.490658</td>\n",
              "      <td>-1.183580</td>\n",
              "      <td>-0.394229</td>\n",
              "      <td>-0.282897</td>\n",
              "      <td>-0.356926</td>\n",
              "      <td>-0.287297</td>\n",
              "      <td>-0.399489</td>\n",
              "      <td>-0.473244</td>\n",
              "      <td>-0.379048</td>\n",
              "      <td>-0.399039</td>\n",
              "      <td>-0.178594</td>\n",
              "      <td>-0.339522</td>\n",
              "      <td>-0.498447</td>\n",
              "      <td>-0.337251</td>\n",
              "      <td>-0.425480</td>\n",
              "      <td>-0.423952</td>\n",
              "      <td>-0.463170</td>\n",
              "      <td>-0.493253</td>\n",
              "      <td>-0.549749</td>\n",
              "      <td>-0.529831</td>\n",
              "      <td>-0.530935</td>\n",
              "      <td>-0.502365</td>\n",
              "      <td>-0.417368</td>\n",
              "      <td>-0.526346</td>\n",
              "      <td>-0.471005</td>\n",
              "      <td>-0.676784</td>\n",
              "      <td>-0.898612</td>\n",
              "      <td>-0.610571</td>\n",
              "      <td>-0.530164</td>\n",
              "      <td>-0.765674</td>\n",
              "      <td>-0.581937</td>\n",
              "      <td>-0.537848</td>\n",
              "      <td>...</td>\n",
              "      <td>1.640105</td>\n",
              "      <td>1.810988</td>\n",
              "      <td>2.185398</td>\n",
              "      <td>2.262985</td>\n",
              "      <td>2.052920</td>\n",
              "      <td>1.890488</td>\n",
              "      <td>1.793033</td>\n",
              "      <td>1.564784</td>\n",
              "      <td>1.234619</td>\n",
              "      <td>0.900302</td>\n",
              "      <td>0.551957</td>\n",
              "      <td>0.258222</td>\n",
              "      <td>-0.128587</td>\n",
              "      <td>-0.092585</td>\n",
              "      <td>-0.168606</td>\n",
              "      <td>-0.495989</td>\n",
              "      <td>-0.395034</td>\n",
              "      <td>-0.328238</td>\n",
              "      <td>-0.448138</td>\n",
              "      <td>-0.268230</td>\n",
              "      <td>-0.456415</td>\n",
              "      <td>-0.357867</td>\n",
              "      <td>-0.317508</td>\n",
              "      <td>-0.434112</td>\n",
              "      <td>-0.549203</td>\n",
              "      <td>-0.324615</td>\n",
              "      <td>-0.268082</td>\n",
              "      <td>-0.220384</td>\n",
              "      <td>-0.117429</td>\n",
              "      <td>0.614059</td>\n",
              "      <td>1.284825</td>\n",
              "      <td>0.886073</td>\n",
              "      <td>0.531452</td>\n",
              "      <td>0.311377</td>\n",
              "      <td>-0.021919</td>\n",
              "      <td>-0.713683</td>\n",
              "      <td>-0.532197</td>\n",
              "      <td>0.321097</td>\n",
              "      <td>0.904227</td>\n",
              "      <td>-0.421797</td>\n",
              "    </tr>\n",
              "    <tr>\n",
              "      <th>3</th>\n",
              "      <td>1.0</td>\n",
              "      <td>0.490473</td>\n",
              "      <td>-1.914407</td>\n",
              "      <td>-3.616364</td>\n",
              "      <td>-4.318823</td>\n",
              "      <td>-4.268016</td>\n",
              "      <td>-3.881110</td>\n",
              "      <td>-2.993280</td>\n",
              "      <td>-1.671131</td>\n",
              "      <td>-1.333884</td>\n",
              "      <td>-0.965629</td>\n",
              "      <td>-0.183319</td>\n",
              "      <td>-0.101657</td>\n",
              "      <td>-0.273874</td>\n",
              "      <td>-0.127818</td>\n",
              "      <td>-0.195983</td>\n",
              "      <td>-0.213523</td>\n",
              "      <td>-0.176473</td>\n",
              "      <td>-0.156932</td>\n",
              "      <td>-0.149172</td>\n",
              "      <td>-0.181510</td>\n",
              "      <td>-0.180074</td>\n",
              "      <td>-0.246151</td>\n",
              "      <td>-0.274260</td>\n",
              "      <td>-0.140960</td>\n",
              "      <td>-0.277449</td>\n",
              "      <td>-0.382549</td>\n",
              "      <td>-0.311937</td>\n",
              "      <td>-0.360093</td>\n",
              "      <td>-0.405968</td>\n",
              "      <td>-0.571433</td>\n",
              "      <td>-0.524106</td>\n",
              "      <td>-0.537886</td>\n",
              "      <td>-0.606778</td>\n",
              "      <td>-0.661446</td>\n",
              "      <td>-0.683375</td>\n",
              "      <td>-0.746683</td>\n",
              "      <td>-0.635662</td>\n",
              "      <td>-0.625231</td>\n",
              "      <td>-0.540094</td>\n",
              "      <td>...</td>\n",
              "      <td>1.553079</td>\n",
              "      <td>1.772155</td>\n",
              "      <td>2.000769</td>\n",
              "      <td>1.925003</td>\n",
              "      <td>1.898426</td>\n",
              "      <td>1.720953</td>\n",
              "      <td>1.501711</td>\n",
              "      <td>1.422492</td>\n",
              "      <td>1.023225</td>\n",
              "      <td>0.776341</td>\n",
              "      <td>0.504426</td>\n",
              "      <td>0.056382</td>\n",
              "      <td>-0.233161</td>\n",
              "      <td>-0.406388</td>\n",
              "      <td>-0.327528</td>\n",
              "      <td>-0.460868</td>\n",
              "      <td>-0.402536</td>\n",
              "      <td>-0.345752</td>\n",
              "      <td>-0.354206</td>\n",
              "      <td>-0.439959</td>\n",
              "      <td>-0.425326</td>\n",
              "      <td>-0.439789</td>\n",
              "      <td>-0.451835</td>\n",
              "      <td>-0.395926</td>\n",
              "      <td>-0.448762</td>\n",
              "      <td>-0.391789</td>\n",
              "      <td>-0.376307</td>\n",
              "      <td>-0.461069</td>\n",
              "      <td>-0.253524</td>\n",
              "      <td>0.213006</td>\n",
              "      <td>0.491173</td>\n",
              "      <td>0.350816</td>\n",
              "      <td>0.499111</td>\n",
              "      <td>0.600345</td>\n",
              "      <td>0.842069</td>\n",
              "      <td>0.952074</td>\n",
              "      <td>0.990133</td>\n",
              "      <td>1.086798</td>\n",
              "      <td>1.403011</td>\n",
              "      <td>-0.383564</td>\n",
              "    </tr>\n",
              "    <tr>\n",
              "      <th>4</th>\n",
              "      <td>1.0</td>\n",
              "      <td>0.800232</td>\n",
              "      <td>-0.874252</td>\n",
              "      <td>-2.384761</td>\n",
              "      <td>-3.973292</td>\n",
              "      <td>-4.338224</td>\n",
              "      <td>-3.802422</td>\n",
              "      <td>-2.534510</td>\n",
              "      <td>-1.783423</td>\n",
              "      <td>-1.594450</td>\n",
              "      <td>-0.753199</td>\n",
              "      <td>-0.298107</td>\n",
              "      <td>-0.428928</td>\n",
              "      <td>-0.491351</td>\n",
              "      <td>-0.361304</td>\n",
              "      <td>-0.339296</td>\n",
              "      <td>-0.324952</td>\n",
              "      <td>-0.290113</td>\n",
              "      <td>-0.363051</td>\n",
              "      <td>-0.525684</td>\n",
              "      <td>-0.597423</td>\n",
              "      <td>-0.575523</td>\n",
              "      <td>-0.567503</td>\n",
              "      <td>-0.504555</td>\n",
              "      <td>-0.618406</td>\n",
              "      <td>-0.682814</td>\n",
              "      <td>-0.743849</td>\n",
              "      <td>-0.815588</td>\n",
              "      <td>-0.826902</td>\n",
              "      <td>-0.782374</td>\n",
              "      <td>-0.929462</td>\n",
              "      <td>-0.999672</td>\n",
              "      <td>-1.060969</td>\n",
              "      <td>-1.007877</td>\n",
              "      <td>-1.028735</td>\n",
              "      <td>-1.122629</td>\n",
              "      <td>-1.028650</td>\n",
              "      <td>-1.046515</td>\n",
              "      <td>-1.063372</td>\n",
              "      <td>-1.122423</td>\n",
              "      <td>...</td>\n",
              "      <td>0.982230</td>\n",
              "      <td>1.155363</td>\n",
              "      <td>1.336254</td>\n",
              "      <td>1.627534</td>\n",
              "      <td>1.717594</td>\n",
              "      <td>1.696487</td>\n",
              "      <td>1.741686</td>\n",
              "      <td>1.674078</td>\n",
              "      <td>1.546928</td>\n",
              "      <td>1.331738</td>\n",
              "      <td>1.110168</td>\n",
              "      <td>0.922210</td>\n",
              "      <td>0.521777</td>\n",
              "      <td>0.154852</td>\n",
              "      <td>-0.123861</td>\n",
              "      <td>-0.202998</td>\n",
              "      <td>-0.247956</td>\n",
              "      <td>-0.219122</td>\n",
              "      <td>-0.214695</td>\n",
              "      <td>-0.319215</td>\n",
              "      <td>-0.198597</td>\n",
              "      <td>-0.151618</td>\n",
              "      <td>-0.129593</td>\n",
              "      <td>-0.074939</td>\n",
              "      <td>-0.196807</td>\n",
              "      <td>-0.174795</td>\n",
              "      <td>-0.208833</td>\n",
              "      <td>-0.210754</td>\n",
              "      <td>-0.100485</td>\n",
              "      <td>0.197446</td>\n",
              "      <td>0.966606</td>\n",
              "      <td>1.148884</td>\n",
              "      <td>0.958434</td>\n",
              "      <td>1.059025</td>\n",
              "      <td>1.371682</td>\n",
              "      <td>1.277392</td>\n",
              "      <td>0.960304</td>\n",
              "      <td>0.971020</td>\n",
              "      <td>1.614392</td>\n",
              "      <td>1.421456</td>\n",
              "    </tr>\n",
              "    <tr>\n",
              "      <th>...</th>\n",
              "      <td>...</td>\n",
              "      <td>...</td>\n",
              "      <td>...</td>\n",
              "      <td>...</td>\n",
              "      <td>...</td>\n",
              "      <td>...</td>\n",
              "      <td>...</td>\n",
              "      <td>...</td>\n",
              "      <td>...</td>\n",
              "      <td>...</td>\n",
              "      <td>...</td>\n",
              "      <td>...</td>\n",
              "      <td>...</td>\n",
              "      <td>...</td>\n",
              "      <td>...</td>\n",
              "      <td>...</td>\n",
              "      <td>...</td>\n",
              "      <td>...</td>\n",
              "      <td>...</td>\n",
              "      <td>...</td>\n",
              "      <td>...</td>\n",
              "      <td>...</td>\n",
              "      <td>...</td>\n",
              "      <td>...</td>\n",
              "      <td>...</td>\n",
              "      <td>...</td>\n",
              "      <td>...</td>\n",
              "      <td>...</td>\n",
              "      <td>...</td>\n",
              "      <td>...</td>\n",
              "      <td>...</td>\n",
              "      <td>...</td>\n",
              "      <td>...</td>\n",
              "      <td>...</td>\n",
              "      <td>...</td>\n",
              "      <td>...</td>\n",
              "      <td>...</td>\n",
              "      <td>...</td>\n",
              "      <td>...</td>\n",
              "      <td>...</td>\n",
              "      <td>...</td>\n",
              "      <td>...</td>\n",
              "      <td>...</td>\n",
              "      <td>...</td>\n",
              "      <td>...</td>\n",
              "      <td>...</td>\n",
              "      <td>...</td>\n",
              "      <td>...</td>\n",
              "      <td>...</td>\n",
              "      <td>...</td>\n",
              "      <td>...</td>\n",
              "      <td>...</td>\n",
              "      <td>...</td>\n",
              "      <td>...</td>\n",
              "      <td>...</td>\n",
              "      <td>...</td>\n",
              "      <td>...</td>\n",
              "      <td>...</td>\n",
              "      <td>...</td>\n",
              "      <td>...</td>\n",
              "      <td>...</td>\n",
              "      <td>...</td>\n",
              "      <td>...</td>\n",
              "      <td>...</td>\n",
              "      <td>...</td>\n",
              "      <td>...</td>\n",
              "      <td>...</td>\n",
              "      <td>...</td>\n",
              "      <td>...</td>\n",
              "      <td>...</td>\n",
              "      <td>...</td>\n",
              "      <td>...</td>\n",
              "      <td>...</td>\n",
              "      <td>...</td>\n",
              "      <td>...</td>\n",
              "      <td>...</td>\n",
              "      <td>...</td>\n",
              "      <td>...</td>\n",
              "      <td>...</td>\n",
              "      <td>...</td>\n",
              "      <td>...</td>\n",
              "    </tr>\n",
              "    <tr>\n",
              "      <th>4995</th>\n",
              "      <td>4.0</td>\n",
              "      <td>-1.122969</td>\n",
              "      <td>-2.252925</td>\n",
              "      <td>-2.867628</td>\n",
              "      <td>-3.358605</td>\n",
              "      <td>-3.167849</td>\n",
              "      <td>-2.638360</td>\n",
              "      <td>-1.664162</td>\n",
              "      <td>-0.935655</td>\n",
              "      <td>-0.866953</td>\n",
              "      <td>-0.645363</td>\n",
              "      <td>-0.093342</td>\n",
              "      <td>0.099746</td>\n",
              "      <td>0.121585</td>\n",
              "      <td>0.125760</td>\n",
              "      <td>0.071543</td>\n",
              "      <td>0.050503</td>\n",
              "      <td>0.021200</td>\n",
              "      <td>0.026780</td>\n",
              "      <td>0.158262</td>\n",
              "      <td>0.099955</td>\n",
              "      <td>-0.009558</td>\n",
              "      <td>0.078789</td>\n",
              "      <td>0.086691</td>\n",
              "      <td>0.046382</td>\n",
              "      <td>0.068272</td>\n",
              "      <td>0.102911</td>\n",
              "      <td>0.106083</td>\n",
              "      <td>0.057099</td>\n",
              "      <td>0.028555</td>\n",
              "      <td>0.046705</td>\n",
              "      <td>0.046524</td>\n",
              "      <td>0.095233</td>\n",
              "      <td>0.059824</td>\n",
              "      <td>-0.021798</td>\n",
              "      <td>-0.022737</td>\n",
              "      <td>-0.083263</td>\n",
              "      <td>-0.125486</td>\n",
              "      <td>-0.082084</td>\n",
              "      <td>-0.023000</td>\n",
              "      <td>...</td>\n",
              "      <td>0.643776</td>\n",
              "      <td>0.597168</td>\n",
              "      <td>0.625141</td>\n",
              "      <td>0.648181</td>\n",
              "      <td>0.594234</td>\n",
              "      <td>0.630589</td>\n",
              "      <td>0.654510</td>\n",
              "      <td>0.602251</td>\n",
              "      <td>0.656946</td>\n",
              "      <td>0.603251</td>\n",
              "      <td>0.599274</td>\n",
              "      <td>0.561487</td>\n",
              "      <td>0.547185</td>\n",
              "      <td>0.537524</td>\n",
              "      <td>0.603885</td>\n",
              "      <td>0.541677</td>\n",
              "      <td>0.580715</td>\n",
              "      <td>0.689346</td>\n",
              "      <td>0.746181</td>\n",
              "      <td>0.867390</td>\n",
              "      <td>0.783529</td>\n",
              "      <td>0.698720</td>\n",
              "      <td>0.798727</td>\n",
              "      <td>0.875711</td>\n",
              "      <td>0.985118</td>\n",
              "      <td>0.799260</td>\n",
              "      <td>0.577579</td>\n",
              "      <td>0.394182</td>\n",
              "      <td>0.458721</td>\n",
              "      <td>0.411458</td>\n",
              "      <td>0.205543</td>\n",
              "      <td>-0.472419</td>\n",
              "      <td>-1.310147</td>\n",
              "      <td>-2.029521</td>\n",
              "      <td>-3.221294</td>\n",
              "      <td>-4.176790</td>\n",
              "      <td>-4.009720</td>\n",
              "      <td>-2.874136</td>\n",
              "      <td>-2.008369</td>\n",
              "      <td>-1.808334</td>\n",
              "    </tr>\n",
              "    <tr>\n",
              "      <th>4996</th>\n",
              "      <td>2.0</td>\n",
              "      <td>-0.547705</td>\n",
              "      <td>-1.889545</td>\n",
              "      <td>-2.839779</td>\n",
              "      <td>-3.457912</td>\n",
              "      <td>-3.929149</td>\n",
              "      <td>-3.966026</td>\n",
              "      <td>-3.492560</td>\n",
              "      <td>-2.695269</td>\n",
              "      <td>-1.849691</td>\n",
              "      <td>-1.374321</td>\n",
              "      <td>-1.288459</td>\n",
              "      <td>-1.117578</td>\n",
              "      <td>-0.536271</td>\n",
              "      <td>-0.251050</td>\n",
              "      <td>-0.215496</td>\n",
              "      <td>-0.072500</td>\n",
              "      <td>-0.170556</td>\n",
              "      <td>-0.182279</td>\n",
              "      <td>-0.271306</td>\n",
              "      <td>-0.242693</td>\n",
              "      <td>-0.225397</td>\n",
              "      <td>-0.187956</td>\n",
              "      <td>-0.215918</td>\n",
              "      <td>-0.173543</td>\n",
              "      <td>-0.233401</td>\n",
              "      <td>-0.190231</td>\n",
              "      <td>-0.160668</td>\n",
              "      <td>-0.241456</td>\n",
              "      <td>-0.204146</td>\n",
              "      <td>-0.228155</td>\n",
              "      <td>-0.084758</td>\n",
              "      <td>-0.142782</td>\n",
              "      <td>-0.153214</td>\n",
              "      <td>-0.314872</td>\n",
              "      <td>-0.335928</td>\n",
              "      <td>-0.266875</td>\n",
              "      <td>-0.313519</td>\n",
              "      <td>-0.304439</td>\n",
              "      <td>-0.294795</td>\n",
              "      <td>...</td>\n",
              "      <td>0.427870</td>\n",
              "      <td>0.471064</td>\n",
              "      <td>0.532288</td>\n",
              "      <td>0.541352</td>\n",
              "      <td>0.588983</td>\n",
              "      <td>0.753851</td>\n",
              "      <td>0.650792</td>\n",
              "      <td>0.720441</td>\n",
              "      <td>0.752308</td>\n",
              "      <td>0.813847</td>\n",
              "      <td>0.690120</td>\n",
              "      <td>0.685244</td>\n",
              "      <td>0.632990</td>\n",
              "      <td>0.688632</td>\n",
              "      <td>0.676820</td>\n",
              "      <td>0.639733</td>\n",
              "      <td>0.708132</td>\n",
              "      <td>0.675063</td>\n",
              "      <td>0.646640</td>\n",
              "      <td>0.635341</td>\n",
              "      <td>0.670459</td>\n",
              "      <td>0.732434</td>\n",
              "      <td>0.866642</td>\n",
              "      <td>0.845284</td>\n",
              "      <td>1.045767</td>\n",
              "      <td>1.429693</td>\n",
              "      <td>1.783791</td>\n",
              "      <td>1.697750</td>\n",
              "      <td>1.492639</td>\n",
              "      <td>1.378843</td>\n",
              "      <td>1.218185</td>\n",
              "      <td>1.258419</td>\n",
              "      <td>1.907529</td>\n",
              "      <td>2.280888</td>\n",
              "      <td>1.895242</td>\n",
              "      <td>1.437702</td>\n",
              "      <td>1.193433</td>\n",
              "      <td>1.261335</td>\n",
              "      <td>1.150449</td>\n",
              "      <td>0.804932</td>\n",
              "    </tr>\n",
              "    <tr>\n",
              "      <th>4997</th>\n",
              "      <td>2.0</td>\n",
              "      <td>-1.351779</td>\n",
              "      <td>-2.209006</td>\n",
              "      <td>-2.520225</td>\n",
              "      <td>-3.061475</td>\n",
              "      <td>-3.065141</td>\n",
              "      <td>-3.030739</td>\n",
              "      <td>-2.622720</td>\n",
              "      <td>-2.044092</td>\n",
              "      <td>-1.295874</td>\n",
              "      <td>-0.733839</td>\n",
              "      <td>-0.562769</td>\n",
              "      <td>-0.461068</td>\n",
              "      <td>-0.310064</td>\n",
              "      <td>-0.004490</td>\n",
              "      <td>0.184161</td>\n",
              "      <td>0.252896</td>\n",
              "      <td>0.302077</td>\n",
              "      <td>0.237223</td>\n",
              "      <td>0.304171</td>\n",
              "      <td>0.276120</td>\n",
              "      <td>0.330877</td>\n",
              "      <td>0.356674</td>\n",
              "      <td>0.323301</td>\n",
              "      <td>0.413409</td>\n",
              "      <td>0.366606</td>\n",
              "      <td>0.328516</td>\n",
              "      <td>0.358460</td>\n",
              "      <td>0.353359</td>\n",
              "      <td>0.451590</td>\n",
              "      <td>0.419947</td>\n",
              "      <td>0.330580</td>\n",
              "      <td>0.317684</td>\n",
              "      <td>0.270813</td>\n",
              "      <td>0.258002</td>\n",
              "      <td>0.317464</td>\n",
              "      <td>0.358579</td>\n",
              "      <td>0.295808</td>\n",
              "      <td>0.276734</td>\n",
              "      <td>0.230999</td>\n",
              "      <td>...</td>\n",
              "      <td>0.716374</td>\n",
              "      <td>0.802243</td>\n",
              "      <td>0.803918</td>\n",
              "      <td>0.826138</td>\n",
              "      <td>0.774642</td>\n",
              "      <td>0.637822</td>\n",
              "      <td>0.747995</td>\n",
              "      <td>0.762681</td>\n",
              "      <td>0.807652</td>\n",
              "      <td>0.816406</td>\n",
              "      <td>0.818481</td>\n",
              "      <td>0.900709</td>\n",
              "      <td>0.876553</td>\n",
              "      <td>0.861227</td>\n",
              "      <td>0.764280</td>\n",
              "      <td>0.628381</td>\n",
              "      <td>0.485624</td>\n",
              "      <td>0.462129</td>\n",
              "      <td>0.442520</td>\n",
              "      <td>0.402201</td>\n",
              "      <td>0.380095</td>\n",
              "      <td>0.289096</td>\n",
              "      <td>0.214385</td>\n",
              "      <td>0.106227</td>\n",
              "      <td>-0.009595</td>\n",
              "      <td>-0.025391</td>\n",
              "      <td>0.035677</td>\n",
              "      <td>-0.030661</td>\n",
              "      <td>-0.203568</td>\n",
              "      <td>-0.445023</td>\n",
              "      <td>-0.896575</td>\n",
              "      <td>-1.512234</td>\n",
              "      <td>-2.076075</td>\n",
              "      <td>-2.586042</td>\n",
              "      <td>-3.322799</td>\n",
              "      <td>-3.627311</td>\n",
              "      <td>-3.437038</td>\n",
              "      <td>-2.260023</td>\n",
              "      <td>-1.577823</td>\n",
              "      <td>-0.684531</td>\n",
              "    </tr>\n",
              "    <tr>\n",
              "      <th>4998</th>\n",
              "      <td>2.0</td>\n",
              "      <td>-1.124432</td>\n",
              "      <td>-1.905039</td>\n",
              "      <td>-2.192707</td>\n",
              "      <td>-2.904320</td>\n",
              "      <td>-2.900722</td>\n",
              "      <td>-2.761252</td>\n",
              "      <td>-2.569705</td>\n",
              "      <td>-2.043893</td>\n",
              "      <td>-1.490538</td>\n",
              "      <td>-0.938473</td>\n",
              "      <td>-0.485372</td>\n",
              "      <td>-0.374298</td>\n",
              "      <td>-0.389414</td>\n",
              "      <td>-0.146131</td>\n",
              "      <td>0.212746</td>\n",
              "      <td>0.429797</td>\n",
              "      <td>0.499480</td>\n",
              "      <td>0.536705</td>\n",
              "      <td>0.558162</td>\n",
              "      <td>0.543721</td>\n",
              "      <td>0.550670</td>\n",
              "      <td>0.560516</td>\n",
              "      <td>0.537170</td>\n",
              "      <td>0.537986</td>\n",
              "      <td>0.549989</td>\n",
              "      <td>0.519434</td>\n",
              "      <td>0.508304</td>\n",
              "      <td>0.540967</td>\n",
              "      <td>0.570611</td>\n",
              "      <td>0.587472</td>\n",
              "      <td>0.556779</td>\n",
              "      <td>0.519021</td>\n",
              "      <td>0.507215</td>\n",
              "      <td>0.464078</td>\n",
              "      <td>0.450806</td>\n",
              "      <td>0.475988</td>\n",
              "      <td>0.485856</td>\n",
              "      <td>0.466050</td>\n",
              "      <td>0.392451</td>\n",
              "      <td>...</td>\n",
              "      <td>0.762903</td>\n",
              "      <td>0.757111</td>\n",
              "      <td>0.704867</td>\n",
              "      <td>0.726405</td>\n",
              "      <td>0.720765</td>\n",
              "      <td>0.769695</td>\n",
              "      <td>0.809712</td>\n",
              "      <td>0.703485</td>\n",
              "      <td>0.610350</td>\n",
              "      <td>0.683131</td>\n",
              "      <td>0.746369</td>\n",
              "      <td>0.605945</td>\n",
              "      <td>0.437233</td>\n",
              "      <td>0.395451</td>\n",
              "      <td>0.396267</td>\n",
              "      <td>0.396361</td>\n",
              "      <td>0.354488</td>\n",
              "      <td>0.279633</td>\n",
              "      <td>0.227358</td>\n",
              "      <td>0.123992</td>\n",
              "      <td>-0.031222</td>\n",
              "      <td>-0.155341</td>\n",
              "      <td>-0.219141</td>\n",
              "      <td>-0.239644</td>\n",
              "      <td>-0.333443</td>\n",
              "      <td>-0.557080</td>\n",
              "      <td>-0.811259</td>\n",
              "      <td>-1.072168</td>\n",
              "      <td>-1.497530</td>\n",
              "      <td>-2.047796</td>\n",
              "      <td>-2.495989</td>\n",
              "      <td>-2.821782</td>\n",
              "      <td>-3.268355</td>\n",
              "      <td>-3.634981</td>\n",
              "      <td>-3.168765</td>\n",
              "      <td>-2.245878</td>\n",
              "      <td>-1.262259</td>\n",
              "      <td>-0.443307</td>\n",
              "      <td>-0.559769</td>\n",
              "      <td>0.108568</td>\n",
              "    </tr>\n",
              "    <tr>\n",
              "      <th>4999</th>\n",
              "      <td>2.0</td>\n",
              "      <td>0.728813</td>\n",
              "      <td>0.192597</td>\n",
              "      <td>-0.733884</td>\n",
              "      <td>-1.779456</td>\n",
              "      <td>-2.345908</td>\n",
              "      <td>-2.977565</td>\n",
              "      <td>-3.380053</td>\n",
              "      <td>-3.417164</td>\n",
              "      <td>-3.030925</td>\n",
              "      <td>-2.313867</td>\n",
              "      <td>-1.671269</td>\n",
              "      <td>-1.255303</td>\n",
              "      <td>-1.146982</td>\n",
              "      <td>-1.049088</td>\n",
              "      <td>-0.513524</td>\n",
              "      <td>-0.100892</td>\n",
              "      <td>-0.087888</td>\n",
              "      <td>-0.179308</td>\n",
              "      <td>-0.226885</td>\n",
              "      <td>-0.156335</td>\n",
              "      <td>-0.141478</td>\n",
              "      <td>-0.024932</td>\n",
              "      <td>-0.089615</td>\n",
              "      <td>-0.165480</td>\n",
              "      <td>-0.043243</td>\n",
              "      <td>-0.132201</td>\n",
              "      <td>-0.193009</td>\n",
              "      <td>-0.177407</td>\n",
              "      <td>-0.276008</td>\n",
              "      <td>-0.202072</td>\n",
              "      <td>-0.110621</td>\n",
              "      <td>-0.176676</td>\n",
              "      <td>-0.177095</td>\n",
              "      <td>-0.277154</td>\n",
              "      <td>-0.054093</td>\n",
              "      <td>-0.188261</td>\n",
              "      <td>-0.283490</td>\n",
              "      <td>-0.250398</td>\n",
              "      <td>-0.280567</td>\n",
              "      <td>...</td>\n",
              "      <td>0.343283</td>\n",
              "      <td>0.351328</td>\n",
              "      <td>0.350081</td>\n",
              "      <td>0.487850</td>\n",
              "      <td>0.514130</td>\n",
              "      <td>0.655713</td>\n",
              "      <td>0.659875</td>\n",
              "      <td>0.574770</td>\n",
              "      <td>0.675136</td>\n",
              "      <td>0.624451</td>\n",
              "      <td>0.697013</td>\n",
              "      <td>0.749857</td>\n",
              "      <td>0.829295</td>\n",
              "      <td>0.871171</td>\n",
              "      <td>0.863445</td>\n",
              "      <td>0.916639</td>\n",
              "      <td>0.841814</td>\n",
              "      <td>0.961598</td>\n",
              "      <td>0.877710</td>\n",
              "      <td>0.831334</td>\n",
              "      <td>0.774570</td>\n",
              "      <td>0.894903</td>\n",
              "      <td>1.087536</td>\n",
              "      <td>1.021885</td>\n",
              "      <td>1.208764</td>\n",
              "      <td>1.623936</td>\n",
              "      <td>1.851147</td>\n",
              "      <td>1.818792</td>\n",
              "      <td>1.672569</td>\n",
              "      <td>1.389086</td>\n",
              "      <td>1.219499</td>\n",
              "      <td>1.267275</td>\n",
              "      <td>1.678989</td>\n",
              "      <td>2.483389</td>\n",
              "      <td>2.569073</td>\n",
              "      <td>2.122891</td>\n",
              "      <td>1.753963</td>\n",
              "      <td>1.538975</td>\n",
              "      <td>1.713781</td>\n",
              "      <td>1.309382</td>\n",
              "    </tr>\n",
              "  </tbody>\n",
              "</table>\n",
              "<p>5000 rows × 141 columns</p>\n",
              "</div>\n",
              "      <button class=\"colab-df-convert\" onclick=\"convertToInteractive('df-b4a6ff79-7ca6-4867-bff3-6724d789a2d7')\"\n",
              "              title=\"Convert this dataframe to an interactive table.\"\n",
              "              style=\"display:none;\">\n",
              "        \n",
              "  <svg xmlns=\"http://www.w3.org/2000/svg\" height=\"24px\"viewBox=\"0 0 24 24\"\n",
              "       width=\"24px\">\n",
              "    <path d=\"M0 0h24v24H0V0z\" fill=\"none\"/>\n",
              "    <path d=\"M18.56 5.44l.94 2.06.94-2.06 2.06-.94-2.06-.94-.94-2.06-.94 2.06-2.06.94zm-11 1L8.5 8.5l.94-2.06 2.06-.94-2.06-.94L8.5 2.5l-.94 2.06-2.06.94zm10 10l.94 2.06.94-2.06 2.06-.94-2.06-.94-.94-2.06-.94 2.06-2.06.94z\"/><path d=\"M17.41 7.96l-1.37-1.37c-.4-.4-.92-.59-1.43-.59-.52 0-1.04.2-1.43.59L10.3 9.45l-7.72 7.72c-.78.78-.78 2.05 0 2.83L4 21.41c.39.39.9.59 1.41.59.51 0 1.02-.2 1.41-.59l7.78-7.78 2.81-2.81c.8-.78.8-2.07 0-2.86zM5.41 20L4 18.59l7.72-7.72 1.47 1.35L5.41 20z\"/>\n",
              "  </svg>\n",
              "      </button>\n",
              "      \n",
              "  <style>\n",
              "    .colab-df-container {\n",
              "      display:flex;\n",
              "      flex-wrap:wrap;\n",
              "      gap: 12px;\n",
              "    }\n",
              "\n",
              "    .colab-df-convert {\n",
              "      background-color: #E8F0FE;\n",
              "      border: none;\n",
              "      border-radius: 50%;\n",
              "      cursor: pointer;\n",
              "      display: none;\n",
              "      fill: #1967D2;\n",
              "      height: 32px;\n",
              "      padding: 0 0 0 0;\n",
              "      width: 32px;\n",
              "    }\n",
              "\n",
              "    .colab-df-convert:hover {\n",
              "      background-color: #E2EBFA;\n",
              "      box-shadow: 0px 1px 2px rgba(60, 64, 67, 0.3), 0px 1px 3px 1px rgba(60, 64, 67, 0.15);\n",
              "      fill: #174EA6;\n",
              "    }\n",
              "\n",
              "    [theme=dark] .colab-df-convert {\n",
              "      background-color: #3B4455;\n",
              "      fill: #D2E3FC;\n",
              "    }\n",
              "\n",
              "    [theme=dark] .colab-df-convert:hover {\n",
              "      background-color: #434B5C;\n",
              "      box-shadow: 0px 1px 3px 1px rgba(0, 0, 0, 0.15);\n",
              "      filter: drop-shadow(0px 1px 2px rgba(0, 0, 0, 0.3));\n",
              "      fill: #FFFFFF;\n",
              "    }\n",
              "  </style>\n",
              "\n",
              "      <script>\n",
              "        const buttonEl =\n",
              "          document.querySelector('#df-b4a6ff79-7ca6-4867-bff3-6724d789a2d7 button.colab-df-convert');\n",
              "        buttonEl.style.display =\n",
              "          google.colab.kernel.accessAllowed ? 'block' : 'none';\n",
              "\n",
              "        async function convertToInteractive(key) {\n",
              "          const element = document.querySelector('#df-b4a6ff79-7ca6-4867-bff3-6724d789a2d7');\n",
              "          const dataTable =\n",
              "            await google.colab.kernel.invokeFunction('convertToInteractive',\n",
              "                                                     [key], {});\n",
              "          if (!dataTable) return;\n",
              "\n",
              "          const docLinkHtml = 'Like what you see? Visit the ' +\n",
              "            '<a target=\"_blank\" href=https://colab.research.google.com/notebooks/data_table.ipynb>data table notebook</a>'\n",
              "            + ' to learn more about interactive tables.';\n",
              "          element.innerHTML = '';\n",
              "          dataTable['output_type'] = 'display_data';\n",
              "          await google.colab.output.renderOutput(dataTable, element);\n",
              "          const docLink = document.createElement('div');\n",
              "          docLink.innerHTML = docLinkHtml;\n",
              "          element.appendChild(docLink);\n",
              "        }\n",
              "      </script>\n",
              "    </div>\n",
              "  </div>\n",
              "  "
            ],
            "text/plain": [
              "      0         1         2         3    ...       137       138       139       140\n",
              "0     1.0 -0.112522 -2.827204 -3.773897  ...  0.228077  0.123431  0.925286  0.193137\n",
              "1     1.0 -1.100878 -3.996840 -4.285843  ...  0.476333  0.773820  1.119621 -1.436250\n",
              "2     1.0 -0.567088 -2.593450 -3.874230  ... -0.532197  0.321097  0.904227 -0.421797\n",
              "3     1.0  0.490473 -1.914407 -3.616364  ...  0.990133  1.086798  1.403011 -0.383564\n",
              "4     1.0  0.800232 -0.874252 -2.384761  ...  0.960304  0.971020  1.614392  1.421456\n",
              "...   ...       ...       ...       ...  ...       ...       ...       ...       ...\n",
              "4995  4.0 -1.122969 -2.252925 -2.867628  ... -4.009720 -2.874136 -2.008369 -1.808334\n",
              "4996  2.0 -0.547705 -1.889545 -2.839779  ...  1.193433  1.261335  1.150449  0.804932\n",
              "4997  2.0 -1.351779 -2.209006 -2.520225  ... -3.437038 -2.260023 -1.577823 -0.684531\n",
              "4998  2.0 -1.124432 -1.905039 -2.192707  ... -1.262259 -0.443307 -0.559769  0.108568\n",
              "4999  2.0  0.728813  0.192597 -0.733884  ...  1.753963  1.538975  1.713781  1.309382\n",
              "\n",
              "[5000 rows x 141 columns]"
            ]
          },
          "metadata": {},
          "execution_count": 6
        }
      ]
    },
    {
      "cell_type": "markdown",
      "source": [
        "And add prefixes, cause by now we know we cannot work with the column names if they are just numerical..."
      ],
      "metadata": {
        "id": "RCsR8bxVaqOY"
      }
    },
    {
      "cell_type": "code",
      "source": [
        "df = df.add_prefix('c')\n",
        "df.columns"
      ],
      "metadata": {
        "colab": {
          "base_uri": "https://localhost:8080/"
        },
        "id": "JXwMvSI2ahgE",
        "outputId": "d48fd37f-8125-489e-bdda-ad63d655dc91"
      },
      "execution_count": null,
      "outputs": [
        {
          "output_type": "execute_result",
          "data": {
            "text/plain": [
              "Index(['c0', 'c1', 'c2', 'c3', 'c4', 'c5', 'c6', 'c7', 'c8', 'c9',\n",
              "       ...\n",
              "       'c131', 'c132', 'c133', 'c134', 'c135', 'c136', 'c137', 'c138', 'c139',\n",
              "       'c140'],\n",
              "      dtype='object', length=141)"
            ]
          },
          "metadata": {},
          "execution_count": 7
        }
      ]
    },
    {
      "cell_type": "markdown",
      "source": [
        "So how many samples in each class do we have now? Let's see..."
      ],
      "metadata": {
        "id": "KSz0yBYXbCIg"
      }
    },
    {
      "cell_type": "code",
      "source": [
        "df['c0'].value_counts()"
      ],
      "metadata": {
        "colab": {
          "base_uri": "https://localhost:8080/"
        },
        "id": "rJ-UwBzOa7OZ",
        "outputId": "1da070e6-3c0e-4789-a730-0e4fb63eb07e"
      },
      "execution_count": null,
      "outputs": [
        {
          "output_type": "execute_result",
          "data": {
            "text/plain": [
              "1.0    2919\n",
              "2.0    1767\n",
              "4.0     194\n",
              "3.0      96\n",
              "5.0      24\n",
              "Name: c0, dtype: int64"
            ]
          },
          "metadata": {},
          "execution_count": 8
        }
      ]
    },
    {
      "cell_type": "markdown",
      "source": [
        "### We split the original data into train and test sets"
      ],
      "metadata": {
        "id": "u2YW5IdwZ9HK"
      }
    },
    {
      "cell_type": "code",
      "source": [
        "x_train, x_test, y_train, y_test = train_test_split(df.values,\n",
        "                                                    df.values[:,0], \n",
        "                                                    test_size=0.2,\n",
        "                                                    random_state=42)  # by setting random state we will get the same data when recalling the function"
      ],
      "metadata": {
        "id": "KiBoCZoybP7V"
      },
      "execution_count": null,
      "outputs": []
    },
    {
      "cell_type": "markdown",
      "source": [
        "### Now we normalize the data"
      ],
      "metadata": {
        "id": "1L3WKo7QoaL7"
      }
    },
    {
      "cell_type": "markdown",
      "source": [
        "We use MinMaxScaler that was import from sklearn\n",
        "\n",
        "Here the scaler holds the MinMaxScaler and we fit it on our training data in the second row of the code, which will be applied on the data we want to scale just in a second with `data_scaler.transform(data_we_want_to_scale)`"
      ],
      "metadata": {
        "id": "Wa4BIoHR0QLE"
      }
    },
    {
      "cell_type": "code",
      "source": [
        "scaler = preprocessing.MinMaxScaler()\n",
        "data_scaler = scaler.fit(x_train[:, 1:])"
      ],
      "metadata": {
        "id": "sGLySYu4wgBG"
      },
      "execution_count": null,
      "outputs": []
    },
    {
      "cell_type": "markdown",
      "source": [
        "We take columns 1 to 140 since the 0th column holds the classes and we don't want to change their value."
      ],
      "metadata": {
        "id": "zQS4nSGYDHeE"
      }
    },
    {
      "cell_type": "code",
      "source": [
        "x_train[:, 1:] = data_scaler.transform(x_train[:, 1:])\n",
        "x_test[:, 1:] = data_scaler.transform(x_test[:, 1:])"
      ],
      "metadata": {
        "id": "fYO3rBCtDJU9"
      },
      "execution_count": null,
      "outputs": []
    },
    {
      "cell_type": "markdown",
      "source": [
        "#### Separate the data into normal and abnormal sets\n",
        "\n",
        "Well we know we have 5 classes, the first one with index 1 represents normal signals, whilst other 4 represents heart abnormalities.\n",
        "\n",
        "What we want is to have a class 0 that would represent the normal ECG signals and class 1 that holds all the abnormalities. Once again, pandas functions will help us with this. \n",
        "\n",
        "We also don't need the classes - the 0th column, so we take only the columns 1 to 140."
      ],
      "metadata": {
        "id": "e8CiWFsoceDP"
      }
    },
    {
      "cell_type": "code",
      "source": [
        "normal_x_train = pd.DataFrame(x_train).add_prefix('c').query('c0 == 1').values[:,1:]\n",
        "normal_x_test = pd.DataFrame(x_test).add_prefix('c').query('c0 == 1').values[:,1:]\n",
        "\n",
        "abnormal_x_train = pd.DataFrame(x_train).add_prefix('c').query('c0 > 1').values[:,1:]\n",
        "abnormal_x_test = pd.DataFrame(x_test).add_prefix('c').query('c0 > 1').values[:,1:]"
      ],
      "metadata": {
        "id": "ssu-gVHtBc07"
      },
      "execution_count": null,
      "outputs": []
    },
    {
      "cell_type": "markdown",
      "source": [
        "**If you are fond of dataframes you could do this instead:**\n",
        "\n",
        "\n",
        "```\n",
        "x_train, x_test, y_train, y_test = train_test_split(df.values,\n",
        "                                                    df.values[:,0], \n",
        "                                                    test_size=0.2,\n",
        "                                                    random_state=42)  # by setting random state we will get the same data when recalling the function\n",
        "```\n",
        "\n",
        "\n",
        "\n",
        "Create a dataframe again (optional)...\n",
        "\n",
        "...once for our original data and then a copy for normalized data (just so you can see the difference here)\n",
        "\n",
        "\n",
        "\n",
        "```\n",
        "df_train = pd.DataFrame(x_train).add_prefix('c')\n",
        "df_test = pd.DataFrame(x_test).add_prefix('c')\n",
        "\n",
        "df_train_norm = df_train.copy()\n",
        "df_test_norm = df_test.copy()\n",
        "\n",
        "scaler = preprocessing.MinMaxScaler()\n",
        "data_scaler = scaler.fit(x_train[:,1:])\n",
        "\n",
        "\n",
        "```\n",
        "\n",
        "And apply it to our data, might seem a bit confusing, so let's see what I did here...\n",
        "\n",
        "We want to scale the data, not the classes, so we want columns 1 to 140 as 0 holds the classes. For this we use `.iloc[:,1:]` which does exactly what we want, it takes all the row indexes and column indexes 1 to 140. So that's what the left side is doing. \n",
        "\n",
        "Now to see what happens on the right side - we take our prepared scaler `data_scaler` use the `.transform()` on it to say we want to transform the data in the brackets. And as on the left side we say that we want to use data from the dataframe in columns 1 to 140 and by adding `.values` we get thir numerical values which we scale. \n",
        "\n",
        "Just like that our dataframe is updated with scaled values. \n",
        "\n",
        "\n",
        "```\n",
        "df_train_norm.iloc[:,1:] = data_scaler.transform(df_train_norm.iloc[:,1:].values)\n",
        "df_test_norm.iloc[:,1:] = data_scaler.transform(df_test_norm.iloc[:,1:].values)\n",
        "```\n",
        "\n",
        "Separate the data into normal and abnormal sets\n",
        "\n",
        "Well we know we have 5 classes, the first one with index 1 represents normal signals, whilst other 4 represents heart abnormalities.\n",
        "\n",
        "What we want is to have a class 0 that would represent the normal ECG signals and class 1 that holds all the abnormalities. Once again, pandas functions will help us with this. \n",
        "\n",
        "```\n",
        "\n",
        "\n",
        "df_train_normal = df_train_norm.query('c0 == 1')\n",
        "df_test_normal = df_train_norm.query('c0 == 1')\n",
        "\n",
        "df_train_abnormal = df_train_norm.query('c0 > 1')\n",
        "df_test_abnormal = df_train_norm.query('c0 > 1')\n",
        "```\n",
        "\n"
      ],
      "metadata": {
        "id": "RFzscfWyzmoD"
      }
    },
    {
      "cell_type": "markdown",
      "source": [
        "## Let's look at our data and the difference"
      ],
      "metadata": {
        "id": "FWWC769Udwss"
      }
    },
    {
      "cell_type": "code",
      "source": [
        "plt.plot(normal_x_train[0])\n",
        "plt.plot(normal_x_train[1])\n",
        "plt.plot(normal_x_train[2])"
      ],
      "metadata": {
        "colab": {
          "base_uri": "https://localhost:8080/",
          "height": 283
        },
        "id": "K0ZUsQnKdhdP",
        "outputId": "eb6af1dc-8f66-485e-97da-7b976acc6e90"
      },
      "execution_count": null,
      "outputs": [
        {
          "output_type": "execute_result",
          "data": {
            "text/plain": [
              "[<matplotlib.lines.Line2D at 0x7f13091503d0>]"
            ]
          },
          "metadata": {},
          "execution_count": 14
        },
        {
          "output_type": "display_data",
          "data": {
            "image/png": "[encoded data removed]",
            "text/plain": [
              "<Figure size 432x288 with 1 Axes>"
            ]
          },
          "metadata": {
            "needs_background": "light"
          }
        }
      ]
    },
    {
      "cell_type": "code",
      "source": [
        "plt.plot(abnormal_x_train[0])\n",
        "plt.plot(abnormal_x_train[1])\n",
        "plt.plot(abnormal_x_train[2])"
      ],
      "metadata": {
        "colab": {
          "base_uri": "https://localhost:8080/",
          "height": 287
        },
        "id": "hK11hvRkdnVr",
        "outputId": "ff1e4071-543b-43f5-da7c-15807c51908a"
      },
      "execution_count": null,
      "outputs": [
        {
          "output_type": "execute_result",
          "data": {
            "text/plain": [
              "[<matplotlib.lines.Line2D at 0x7f130797b110>]"
            ]
          },
          "metadata": {},
          "execution_count": 15
        },
        {
          "output_type": "display_data",
          "data": {
            "image/png": "[encoded data removed]",
            "text/plain": [
              "<Figure size 432x288 with 1 Axes>"
            ]
          },
          "metadata": {
            "needs_background": "light"
          }
        }
      ]
    },
    {
      "cell_type": "markdown",
      "source": [
        "## Create the autoencoder"
      ],
      "metadata": {
        "id": "FrfNwgPcd08z"
      }
    },
    {
      "cell_type": "code",
      "source": [
        "class AutoEncoderDENSE(Model):\n",
        "    def __init__(self):\n",
        "        super(AutoEncoderDENSE, self).__init__()\n",
        "        self.encoder = tf.keras.Sequential([\n",
        "            tf.keras.layers.Dense(64, activation='relu'),\n",
        "            tf.keras.layers.Dense(32, activation='relu'),\n",
        "            tf.keras.layers.Dense(16, activation='relu'),\n",
        "            tf.keras.layers.Dense(8, activation='relu'),])\n",
        "        \n",
        "        self.decoder = tf.keras.Sequential([\n",
        "            tf.keras.layers.Dense(16, activation='relu'),\n",
        "            tf.keras.layers.Dense(32, activation='relu'),\n",
        "            tf.keras.layers.Dense(64, activation='relu'),\n",
        "            tf.keras.layers.Dense(140, activation='sigmoid'),])\n",
        "        \n",
        "    def call(self, x):\n",
        "        encoded = self.encoder(x)\n",
        "        decoded = self.decoder(encoded)\n",
        "        return decoded"
      ],
      "metadata": {
        "id": "qu4vz98SeN6A"
      },
      "execution_count": null,
      "outputs": []
    },
    {
      "cell_type": "code",
      "source": [
        "model = AutoEncoderDENSE()\n",
        "early_stopping = tf.keras.callbacks.EarlyStopping(\n",
        "                    monitor='val_loss', \n",
        "                    patience=3,\n",
        "                    mode='min',)\n",
        "\n",
        "model.compile(optimizer='adam', loss='mae')"
      ],
      "metadata": {
        "id": "F4AZtvi2eqHd"
      },
      "execution_count": null,
      "outputs": []
    },
    {
      "cell_type": "code",
      "source": [
        "history = model.fit(normal_x_train, normal_x_train, \n",
        "                    epochs=50,\n",
        "                    batch_size=128,\n",
        "                    validation_data=(x_train[:,1:], x_train[:,1:]),\n",
        "                    callbacks=[early_stopping])"
      ],
      "metadata": {
        "colab": {
          "base_uri": "https://localhost:8080/"
        },
        "id": "SPLsPtbjf2Kh",
        "outputId": "381de6bb-1c69-4a34-9e36-7cc8c224e9d7"
      },
      "execution_count": null,
      "outputs": [
        {
          "output_type": "stream",
          "name": "stdout",
          "text": [
            "Epoch 1/50\n",
            "19/19 [==============================] - 3s 39ms/step - loss: 0.1144 - val_loss: 0.1017\n",
            "Epoch 2/50\n",
            "19/19 [==============================] - 0s 17ms/step - loss: 0.0699 - val_loss: 0.0803\n",
            "Epoch 3/50\n",
            "19/19 [==============================] - 0s 19ms/step - loss: 0.0505 - val_loss: 0.0763\n",
            "Epoch 4/50\n",
            "19/19 [==============================] - 0s 20ms/step - loss: 0.0469 - val_loss: 0.0755\n",
            "Epoch 5/50\n",
            "19/19 [==============================] - 0s 22ms/step - loss: 0.0465 - val_loss: 0.0751\n",
            "Epoch 6/50\n",
            "19/19 [==============================] - 0s 17ms/step - loss: 0.0464 - val_loss: 0.0752\n",
            "Epoch 7/50\n",
            "19/19 [==============================] - 0s 18ms/step - loss: 0.0463 - val_loss: 0.0751\n",
            "Epoch 8/50\n",
            "19/19 [==============================] - 0s 22ms/step - loss: 0.0462 - val_loss: 0.0743\n",
            "Epoch 9/50\n",
            "19/19 [==============================] - 0s 21ms/step - loss: 0.0461 - val_loss: 0.0743\n",
            "Epoch 10/50\n",
            "19/19 [==============================] - 0s 18ms/step - loss: 0.0460 - val_loss: 0.0737\n",
            "Epoch 11/50\n",
            "19/19 [==============================] - 0s 18ms/step - loss: 0.0460 - val_loss: 0.0732\n",
            "Epoch 12/50\n",
            "19/19 [==============================] - 0s 16ms/step - loss: 0.0459 - val_loss: 0.0730\n",
            "Epoch 13/50\n",
            "19/19 [==============================] - 0s 19ms/step - loss: 0.0458 - val_loss: 0.0728\n",
            "Epoch 14/50\n",
            "19/19 [==============================] - 0s 17ms/step - loss: 0.0456 - val_loss: 0.0728\n",
            "Epoch 15/50\n",
            "19/19 [==============================] - 0s 17ms/step - loss: 0.0455 - val_loss: 0.0723\n",
            "Epoch 16/50\n",
            "19/19 [==============================] - 0s 17ms/step - loss: 0.0450 - val_loss: 0.0716\n",
            "Epoch 17/50\n",
            "19/19 [==============================] - 0s 16ms/step - loss: 0.0438 - val_loss: 0.0704\n",
            "Epoch 18/50\n",
            "19/19 [==============================] - 0s 18ms/step - loss: 0.0409 - val_loss: 0.0670\n",
            "Epoch 19/50\n",
            "19/19 [==============================] - 0s 15ms/step - loss: 0.0379 - val_loss: 0.0623\n",
            "Epoch 20/50\n",
            "19/19 [==============================] - 0s 13ms/step - loss: 0.0364 - val_loss: 0.0609\n",
            "Epoch 21/50\n",
            "19/19 [==============================] - 0s 19ms/step - loss: 0.0358 - val_loss: 0.0595\n",
            "Epoch 22/50\n",
            "19/19 [==============================] - 0s 15ms/step - loss: 0.0354 - val_loss: 0.0593\n",
            "Epoch 23/50\n",
            "19/19 [==============================] - 0s 15ms/step - loss: 0.0349 - val_loss: 0.0585\n",
            "Epoch 24/50\n",
            "19/19 [==============================] - 0s 19ms/step - loss: 0.0346 - val_loss: 0.0582\n",
            "Epoch 25/50\n",
            "19/19 [==============================] - 0s 16ms/step - loss: 0.0342 - val_loss: 0.0585\n",
            "Epoch 26/50\n",
            "19/19 [==============================] - 0s 19ms/step - loss: 0.0341 - val_loss: 0.0577\n",
            "Epoch 27/50\n",
            "19/19 [==============================] - 0s 12ms/step - loss: 0.0336 - val_loss: 0.0575\n",
            "Epoch 28/50\n",
            "19/19 [==============================] - 0s 10ms/step - loss: 0.0334 - val_loss: 0.0573\n",
            "Epoch 29/50\n",
            "19/19 [==============================] - 0s 15ms/step - loss: 0.0332 - val_loss: 0.0578\n",
            "Epoch 30/50\n",
            "19/19 [==============================] - 0s 11ms/step - loss: 0.0332 - val_loss: 0.0567\n",
            "Epoch 31/50\n",
            "19/19 [==============================] - 0s 16ms/step - loss: 0.0328 - val_loss: 0.0564\n",
            "Epoch 32/50\n",
            "19/19 [==============================] - 0s 16ms/step - loss: 0.0327 - val_loss: 0.0567\n",
            "Epoch 33/50\n",
            "19/19 [==============================] - 0s 13ms/step - loss: 0.0325 - val_loss: 0.0568\n",
            "Epoch 34/50\n",
            "19/19 [==============================] - 0s 12ms/step - loss: 0.0322 - val_loss: 0.0565\n"
          ]
        }
      ]
    },
    {
      "cell_type": "markdown",
      "source": [
        "## So what did our model learn?\n",
        "\n",
        "The autoencoder is made of dense layers is trying to learn the distribution of the signal, so it can reproduce it at it's output. \n",
        "\n",
        "Since we are training it on the normal data it will learn to reproduce the normal data and will struggle with the abnormalities. "
      ],
      "metadata": {
        "id": "KOj9SUCpErM0"
      }
    },
    {
      "cell_type": "markdown",
      "source": [
        "We pass the normal test data into the model and plot their distribution in comparisson to their original shape. "
      ],
      "metadata": {
        "id": "ZRxIger8FUGf"
      }
    },
    {
      "cell_type": "code",
      "source": [
        "decoder_out = model(normal_x_test).numpy()\n",
        "\n",
        "plt.plot(normal_x_test[1], 'r')\n",
        "plt.plot(decoder_out[1], 'b')"
      ],
      "metadata": {
        "colab": {
          "base_uri": "https://localhost:8080/",
          "height": 283
        },
        "id": "MnVZsNaEChzh",
        "outputId": "e4ea4604-2b59-4fc6-8ff2-fe71a6f963b8"
      },
      "execution_count": null,
      "outputs": [
        {
          "output_type": "execute_result",
          "data": {
            "text/plain": [
              "[<matplotlib.lines.Line2D at 0x7f12fe615690>]"
            ]
          },
          "metadata": {},
          "execution_count": 19
        },
        {
          "output_type": "display_data",
          "data": {
            "image/png": "[encoded data removed]",
            "text/plain": [
              "<Figure size 432x288 with 1 Axes>"
            ]
          },
          "metadata": {
            "needs_background": "light"
          }
        }
      ]
    },
    {
      "cell_type": "markdown",
      "source": [
        "Now we do the same thing, but with the abnormal data."
      ],
      "metadata": {
        "id": "BPMIGww0FfGb"
      }
    },
    {
      "cell_type": "code",
      "source": [
        "decoder_out_abnormal = model(abnormal_x_test).numpy()\n",
        "\n",
        "plt.plot(abnormal_x_test[1], 'r')\n",
        "plt.plot(decoder_out_abnormal[1], 'b')"
      ],
      "metadata": {
        "colab": {
          "base_uri": "https://localhost:8080/",
          "height": 283
        },
        "id": "2KWfnTuHEh1f",
        "outputId": "837a45b5-cfa4-487f-a6a8-2fcb06916912"
      },
      "execution_count": null,
      "outputs": [
        {
          "output_type": "execute_result",
          "data": {
            "text/plain": [
              "[<matplotlib.lines.Line2D at 0x7f130350a890>]"
            ]
          },
          "metadata": {},
          "execution_count": 20
        },
        {
          "output_type": "display_data",
          "data": {
            "image/png": "[encoded data removed]",
            "text/plain": [
              "<Figure size 432x288 with 1 Axes>"
            ]
          },
          "metadata": {
            "needs_background": "light"
          }
        }
      ]
    },
    {
      "cell_type": "markdown",
      "source": [
        "## Finding threshold\n",
        "\n",
        "As we can see, the normal data is fitted pretty accurately, whilst the abnormal data does not really copy the original data. \n",
        "\n",
        "And that's what we are focusing at. We can now compute the mean square error `mse` or mean absolute error `mae` of the normal and abnormal data, plot their distribution and based on that decide where the threshold should be, so let's get into it!"
      ],
      "metadata": {
        "id": "fayvioyTgXLk"
      }
    },
    {
      "cell_type": "markdown",
      "source": [
        "#### Normal train data\n"
      ],
      "metadata": {
        "id": "thMr8TTxIGY8"
      }
    },
    {
      "cell_type": "code",
      "source": [
        "reconstruction = model.predict(normal_x_train)\n",
        "train_loss = tf.keras.losses.mse(reconstruction, normal_x_train) "
      ],
      "metadata": {
        "id": "CW3i7bPNgyK7"
      },
      "execution_count": null,
      "outputs": []
    },
    {
      "cell_type": "markdown",
      "source": [
        "Plot the normal data distribution"
      ],
      "metadata": {
        "id": "RRXcLY65Gz3Y"
      }
    },
    {
      "cell_type": "code",
      "source": [
        "plt.hist(train_loss, bins=50)\n",
        "plt.title('Distribution of normal train data')\n",
        "plt.show()"
      ],
      "metadata": {
        "colab": {
          "base_uri": "https://localhost:8080/",
          "height": 281
        },
        "id": "AWffCdsXG4B2",
        "outputId": "3b579c5d-3fd2-4533-a038-e81f968f6723"
      },
      "execution_count": null,
      "outputs": [
        {
          "output_type": "display_data",
          "data": {
            "image/png": "[encoded data removed]",
            "text/plain": [
              "<Figure size 432x288 with 1 Axes>"
            ]
          },
          "metadata": {
            "needs_background": "light"
          }
        }
      ]
    },
    {
      "cell_type": "markdown",
      "source": [
        "Get the mean value and standard deviation of the data"
      ],
      "metadata": {
        "id": "TOXyof8AHU1L"
      }
    },
    {
      "cell_type": "code",
      "source": [
        "mean_normal = np.mean(train_loss)\n",
        "mean_normal"
      ],
      "metadata": {
        "id": "LmDJQIBChLzo",
        "colab": {
          "base_uri": "https://localhost:8080/"
        },
        "outputId": "0414a552-3c6f-43c2-e4df-589b123650d8"
      },
      "execution_count": null,
      "outputs": [
        {
          "output_type": "execute_result",
          "data": {
            "text/plain": [
              "0.0024309782558374488"
            ]
          },
          "metadata": {},
          "execution_count": 23
        }
      ]
    },
    {
      "cell_type": "code",
      "source": [
        "std_normal = np.std(train_loss)\n",
        "std_normal"
      ],
      "metadata": {
        "id": "vLCs050shR0I",
        "colab": {
          "base_uri": "https://localhost:8080/"
        },
        "outputId": "0dbd83ba-cfb0-49fb-f7b6-93a038d76152"
      },
      "execution_count": null,
      "outputs": [
        {
          "output_type": "execute_result",
          "data": {
            "text/plain": [
              "0.0030271994922538795"
            ]
          },
          "metadata": {},
          "execution_count": 24
        }
      ]
    },
    {
      "cell_type": "markdown",
      "source": [
        "Let's decide where our threshold is going to be...\n",
        "\n",
        "We can take the mean value + 2*std and see what we get. "
      ],
      "metadata": {
        "id": "kN8KMa85HkEa"
      }
    },
    {
      "cell_type": "code",
      "source": [
        "threshold = mean_normal + 2*std_normal\n",
        "threshold"
      ],
      "metadata": {
        "id": "lE4POP78ha4k",
        "colab": {
          "base_uri": "https://localhost:8080/"
        },
        "outputId": "9868b61b-7f26-4023-d506-d19681fb9c94"
      },
      "execution_count": null,
      "outputs": [
        {
          "output_type": "execute_result",
          "data": {
            "text/plain": [
              "0.008485377240345208"
            ]
          },
          "metadata": {},
          "execution_count": 25
        }
      ]
    },
    {
      "cell_type": "markdown",
      "source": [
        "If we look at our histogram, 0.064 seem like a good threshold, where most of our normal data lies on the left side. Now we should see, how the distribution of the abnormal data looks like."
      ],
      "metadata": {
        "id": "lVSR5IfnH1LD"
      }
    },
    {
      "cell_type": "markdown",
      "source": [
        "## Evaluation"
      ],
      "metadata": {
        "id": "20ufFd_fT7-5"
      }
    },
    {
      "cell_type": "markdown",
      "source": [
        "#### Normal data"
      ],
      "metadata": {
        "id": "N6PEzvUXT-51"
      }
    },
    {
      "cell_type": "markdown",
      "source": [
        "Calculate the loss on the testing data and plot the histogram"
      ],
      "metadata": {
        "id": "aDzDqcnoUaUR"
      }
    },
    {
      "cell_type": "code",
      "source": [
        "reconstruction_test = model.predict(normal_x_test)\n",
        "test_loss_normal = tf.keras.losses.mse(reconstruction_test, normal_x_test) "
      ],
      "metadata": {
        "id": "CwaYxGAQT-BK"
      },
      "execution_count": null,
      "outputs": []
    },
    {
      "cell_type": "code",
      "source": [
        "plt.hist(test_loss_normal, bins=50)\n",
        "plt.title('Distribution of normal test data')\n",
        "plt.show()"
      ],
      "metadata": {
        "colab": {
          "base_uri": "https://localhost:8080/",
          "height": 281
        },
        "id": "t2hTXgWKUZLF",
        "outputId": "851a0b5d-6193-4e2d-b742-d2e47232a1eb"
      },
      "execution_count": null,
      "outputs": [
        {
          "output_type": "display_data",
          "data": {
            "image/png": "[encoded data removed]",
            "text/plain": [
              "<Figure size 432x288 with 1 Axes>"
            ]
          },
          "metadata": {
            "needs_background": "light"
          }
        }
      ]
    },
    {
      "cell_type": "markdown",
      "source": [
        "#### Abnormal data"
      ],
      "metadata": {
        "id": "ceALq6aYIIyL"
      }
    },
    {
      "cell_type": "markdown",
      "source": [
        "Again, compute the MAE of the predicted abnormal data and display it in the histogram."
      ],
      "metadata": {
        "id": "4HlIzz2qIQxI"
      }
    },
    {
      "cell_type": "code",
      "source": [
        "reconstruction_anomalies = model.predict(abnormal_x_test)\n",
        "test_loss_anomalies = tf.keras.losses.mse(reconstruction_anomalies, abnormal_x_test)"
      ],
      "metadata": {
        "id": "MA8CEqlxhf1E"
      },
      "execution_count": null,
      "outputs": []
    },
    {
      "cell_type": "code",
      "source": [
        "plt.hist(test_loss_anomalies, bins=50)\n",
        "plt.title('Distribution of abnormal test data')\n",
        "plt.show()"
      ],
      "metadata": {
        "colab": {
          "base_uri": "https://localhost:8080/",
          "height": 281
        },
        "id": "UntiWMOYIOIQ",
        "outputId": "03b27573-5143-4fb8-a2ea-3a34e2c6d149"
      },
      "execution_count": null,
      "outputs": [
        {
          "output_type": "display_data",
          "data": {
            "image/png": "[encoded data removed]",
            "text/plain": [
              "<Figure size 432x288 with 1 Axes>"
            ]
          },
          "metadata": {
            "needs_background": "light"
          }
        }
      ]
    },
    {
      "cell_type": "markdown",
      "source": [
        "Seems like our threshold should work well in detecting the most abnormalities. So let's put it all together."
      ],
      "metadata": {
        "id": "67lGzpsnIYZ0"
      }
    },
    {
      "cell_type": "code",
      "source": [
        "# plot histograms of normal and abnormal data\n",
        "plt.hist(test_loss_normal, bins=50, label='normal')\n",
        "plt.hist(test_loss_anomalies, bins=50, label='anomalies')\n",
        "# plot a vertical line, which displays the threshold\n",
        "plt.axvline(threshold, color='r', linewidth=3, linestyle='dashed', label='{:0.3f}'.format(threshold))\n",
        "# add a legend and title\n",
        "plt.legend(loc='upper right')\n",
        "plt.title('Threshold for detecting anomalies')\n",
        "plt.show()"
      ],
      "metadata": {
        "id": "oYdommTvhzcW",
        "colab": {
          "base_uri": "https://localhost:8080/",
          "height": 281
        },
        "outputId": "d54e07ae-2249-403f-ff95-e14dbf2b3c51"
      },
      "execution_count": null,
      "outputs": [
        {
          "output_type": "display_data",
          "data": {
            "image/png": "[encoded data removed]",
            "text/plain": [
              "<Figure size 432x288 with 1 Axes>"
            ]
          },
          "metadata": {
            "needs_background": "light"
          }
        }
      ]
    },
    {
      "cell_type": "markdown",
      "source": [
        "## Confusion matrix, ROC curve"
      ],
      "metadata": {
        "id": "JlTD3i5kSz55"
      }
    },
    {
      "cell_type": "markdown",
      "source": [
        "To be able to plot the confusion matrix and ROC curve we first need to count how many errors I. and II. we have -> how many false positives or false negatives. \n",
        "\n",
        "For this we are going to use the tf.math function, where we compare the threshold with the test losses of normal and abnormal data and get an array with True/False values. \n",
        "\n",
        "Next we count how many manu nonzero values we have (non-zero = 1 = True)."
      ],
      "metadata": {
        "id": "_UPXiNGQVDoJ"
      }
    },
    {
      "cell_type": "code",
      "source": [
        "# We correctly detect normal data if the normal loss is smaller than the threshold\n",
        "pred_normal = tf.math.less(test_loss_normal, threshold)\n",
        "# We correctly detect abnormal data if the normal loss is greater than the threshold\n",
        "pred_anomaly = tf.math.greater(test_loss_anomalies, threshold)\n"
      ],
      "metadata": {
        "id": "fDoD58YO5jxm"
      },
      "execution_count": null,
      "outputs": []
    },
    {
      "cell_type": "code",
      "source": [
        "pred_normal_true = tf.math.count_nonzero(pred_normal).numpy()\n",
        "pred_normal_false = normal_x_test.shape[0] - pred_normal_true\n",
        "pred_normal_true, pred_normal_false"
      ],
      "metadata": {
        "colab": {
          "base_uri": "https://localhost:8080/"
        },
        "id": "1T4BoheU5pMO",
        "outputId": "cf44e191-2694-4d80-e9c9-b6c968008133"
      },
      "execution_count": null,
      "outputs": [
        {
          "output_type": "execute_result",
          "data": {
            "text/plain": [
              "(562, 24)"
            ]
          },
          "metadata": {},
          "execution_count": 32
        }
      ]
    },
    {
      "cell_type": "code",
      "source": [
        "pred_anomaly_true = tf.math.count_nonzero(pred_anomaly).numpy()\n",
        "pred_anomaly_false = abnormal_x_test.shape[0] - pred_anomaly_true\n",
        "pred_anomaly_true, pred_anomaly_false"
      ],
      "metadata": {
        "colab": {
          "base_uri": "https://localhost:8080/"
        },
        "id": "g28zUtz554rH",
        "outputId": "d0deb039-7f7f-4e64-9574-bf6ad6257423"
      },
      "execution_count": null,
      "outputs": [
        {
          "output_type": "execute_result",
          "data": {
            "text/plain": [
              "(408, 6)"
            ]
          },
          "metadata": {},
          "execution_count": 33
        }
      ]
    },
    {
      "cell_type": "markdown",
      "source": [
        "To **plot the confusion matrix**, we need to create a list which will hold the values we want to display. \n",
        "\n",
        "We can also define the categories to display as ticks - normal/anomalities. \n",
        "\n",
        "And to plot the data we will use **seaborn**. Seaborn is a library for statistical data visualization and is based on matplotlib, but is more user friendly.\n",
        "Basicly all we could do is to write sns.heatmap(cm) and we would have our confusion matrix. However we added few extras to make it nice and representable. "
      ],
      "metadata": {
        "id": "-57kJkMjgECx"
      }
    },
    {
      "cell_type": "code",
      "source": [
        "cm = [[pred_normal_true, pred_normal_false], \n",
        "      [pred_anomaly_false, pred_anomaly_true]]\n",
        "\n",
        "# cm = [[pred_anomaly_true, pred_anomaly_false]\n",
        "#       [pred_normal_false, pred_normal_true]]\n",
        "\n",
        "categories = ['Normal', 'Anomalies']\n",
        "\n",
        "g = sns.heatmap(cm, annot=True, fmt=\"d\",\n",
        "            xticklabels=categories, \n",
        "            yticklabels=categories, \n",
        "            cbar=False, \n",
        "            cmap=\"GnBu\")\n",
        "\n",
        "g.set(xlabel='Predicted', ylabel='Actual', title='Confusion Matrix')\n",
        "\n",
        "plt.show()"
      ],
      "metadata": {
        "colab": {
          "base_uri": "https://localhost:8080/",
          "height": 295
        },
        "id": "lgIdL1Mk5w1n",
        "outputId": "050d45e8-a738-40ac-82cc-b17624d56fa6"
      },
      "execution_count": null,
      "outputs": [
        {
          "output_type": "display_data",
          "data": {
            "image/png": "[encoded data removed]",
            "text/plain": [
              "<Figure size 432x288 with 1 Axes>"
            ]
          },
          "metadata": {
            "needs_background": "light"
          }
        }
      ]
    },
    {
      "cell_type": "markdown",
      "source": [
        "Now we combine the first three cells of this block into one as a function which will predict true positives, false negatives, true negatives and false positives. We will need this function to get us values, so we can plot ROC."
      ],
      "metadata": {
        "id": "EncIAGvavseV"
      }
    },
    {
      "cell_type": "code",
      "source": [
        "def predictor(normal, abnormal, threshold):\n",
        "   \n",
        "    # We correctly detect normal data if the normal loss is smaller than the threshold\n",
        "    pred_normal = tf.math.less(normal, threshold)\n",
        "    # We correctly detect abnormal data if the normal loss is greater than the threshold\n",
        "    pred_anomaly = tf.math.greater(abnormal, threshold)\n",
        "\n",
        "    tn = tf.math.count_nonzero(pred_normal).numpy()\n",
        "    fp = normal.shape[0] - tn\n",
        "\n",
        "    tp = tf.math.count_nonzero(pred_anomaly).numpy()\n",
        "    fn = abnormal.shape[0] - tp\n",
        "    \n",
        "    return tp,tn,fp,fn"
      ],
      "metadata": {
        "id": "mLePzSefjk_H"
      },
      "execution_count": null,
      "outputs": []
    },
    {
      "cell_type": "markdown",
      "source": [
        "Calculate the roc values - tpr and fpr...\n",
        "\n",
        "...first define empty list which will hold the values\n",
        "\n",
        "...then create a for loop which will take 100 values from 0 to 1 (use `np.linspace(from, to, steps)`)\n",
        "\n",
        "...now use the defined predictor function and, where the threshold is the value 0 to 1 of the forloop\n",
        "\n",
        "...calculate the trp and frp for each iteration `tpr = tp/(tp + fn)` and `fpr = fp/(fp + tn)`\n",
        "\n",
        "...`append` the tpr and fpr values in the roc list"
      ],
      "metadata": {
        "id": "i_oFJtI5GoI-"
      }
    },
    {
      "cell_type": "code",
      "source": [
        "tpr_values = []\n",
        "fpr_values = []\n",
        "\n",
        "for thresh in np.linspace(0, 1, 100):\n",
        "    tp,tn,fp,fn = predictor(test_loss_normal, \n",
        "                            test_loss_anomalies, \n",
        "                            thresh/10)\n",
        "    tpr = tp/(tp + fn)\n",
        "    fpr = fp/(fp + tn)\n",
        "    tpr_values.append(tpr)\n",
        "    fpr_values.append(fpr)"
      ],
      "metadata": {
        "id": "5-vvgy4F58W_"
      },
      "execution_count": null,
      "outputs": []
    },
    {
      "cell_type": "markdown",
      "source": [
        "Plot the ROC curve"
      ],
      "metadata": {
        "id": "CUGlz5TuyRU_"
      }
    },
    {
      "cell_type": "code",
      "source": [
        "fig, ax = plt.subplots(figsize=(10,7))\n",
        "ax.plot(fpr_values, tpr_values)\n",
        "ax.plot(np.linspace(0, 1, 100),\n",
        "         np.linspace(0, 1, 100),\n",
        "         label='baseline',\n",
        "         linestyle='--')\n",
        "plt.title('Receiver Operating Characteristic Curve', fontsize=18)\n",
        "plt.ylabel('TPR', fontsize=16)\n",
        "plt.xlabel('FPR', fontsize=16)\n",
        "plt.legend(fontsize=12);"
      ],
      "metadata": {
        "colab": {
          "base_uri": "https://localhost:8080/",
          "height": 467
        },
        "id": "hJfJ6ThdhigQ",
        "outputId": "4ec691ea-068b-491d-ff8c-a91a0ec4bc3d"
      },
      "execution_count": null,
      "outputs": [
        {
          "output_type": "display_data",
          "data": {
            "image/png": "[encoded data removed]",
            "text/plain": [
              "<Figure size 720x504 with 1 Axes>"
            ]
          },
          "metadata": {
            "needs_background": "light"
          }
        }
      ]
    }
  ]
}